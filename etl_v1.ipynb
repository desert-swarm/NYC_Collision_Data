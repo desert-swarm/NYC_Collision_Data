{
 "cells": [
  {
   "cell_type": "code",
   "execution_count": 1,
   "metadata": {},
   "outputs": [],
   "source": [
    "import pandas as pd \n",
    "import requests \n",
    "import json \n",
    "from google.cloud import bigquery \n",
    "from urllib.parse import quote, unquote\n",
    "import os\n",
    "import configparser"
   ]
  },
  {
   "cell_type": "code",
   "execution_count": 2,
   "metadata": {},
   "outputs": [
    {
     "name": "stdout",
     "output_type": "stream",
     "text": [
      "['SSL', 'GOOGLE']\n"
     ]
    }
   ],
   "source": [
    "configfile = configparser.ConfigParser()\n",
    "configfile.read(\"config.cfg\")\n",
    "print(configfile.sections())\n",
    "\n",
    "# set SSL cert vals, not necessary unless there's SSL cert error\n",
    "os.environ[\"REQUESTS_CA_BUNDLE\"] = configfile['SSL']['REQUESTS_CA_BUNDLE']\n",
    "os.environ[\"SSL_CERT_FILE\"] = configfile['SSL']['SSL_CERT_FILE']\n",
    "\n",
    "# google IAM credentials"
   ]
  },
  {
   "cell_type": "code",
   "execution_count": 3,
   "metadata": {},
   "outputs": [],
   "source": [
    "## get data from open data \n",
    "\n",
    "base_url = \"https://data.cityofnewyork.us/resource/h9gi-nx95.json?\"\n",
    "api_query = \"\"\"SELECT \n",
    "                    collision_id,\n",
    "                    crash_date,\n",
    "                    crash_time,\n",
    "                    borough,\n",
    "                    zip_code, \n",
    "                    latitude,\n",
    "                    longitude,\n",
    "                    location,\n",
    "                    on_street_name,\n",
    "                    cross_street_name,\n",
    "                    off_street_name, \n",
    "                    number_of_persons_injured,\n",
    "                    number_of_persons_killed,\n",
    "                    number_of_pedestrians_injured,\n",
    "                    number_of_pedestrians_killed,\n",
    "                    number_of_cyclist_injured,\n",
    "                    number_of_cyclist_killed,\n",
    "                    number_of_motorist_injured,\n",
    "                    number_of_motorist_killed,\n",
    "                    contributing_factor_vehicle_1,\n",
    "                    contributing_factor_vehicle_2,\n",
    "                    vehicle_type_code1,\n",
    "                    vehicle_type_code2\n",
    "                LIMIT 10000\n",
    "                \n",
    "            \"\"\""
   ]
  },
  {
   "cell_type": "code",
   "execution_count": 4,
   "metadata": {},
   "outputs": [],
   "source": [
    "url = base_url + \"$query=\" + api_query\n",
    "resp = requests.get(url)"
   ]
  },
  {
   "cell_type": "code",
   "execution_count": 5,
   "metadata": {},
   "outputs": [],
   "source": [
    "df_opendata = pd.DataFrame(resp.json())"
   ]
  },
  {
   "cell_type": "code",
   "execution_count": 6,
   "metadata": {},
   "outputs": [
    {
     "data": {
      "text/html": [
       "<div>\n",
       "<style scoped>\n",
       "    .dataframe tbody tr th:only-of-type {\n",
       "        vertical-align: middle;\n",
       "    }\n",
       "\n",
       "    .dataframe tbody tr th {\n",
       "        vertical-align: top;\n",
       "    }\n",
       "\n",
       "    .dataframe thead th {\n",
       "        text-align: right;\n",
       "    }\n",
       "</style>\n",
       "<table border=\"1\" class=\"dataframe\">\n",
       "  <thead>\n",
       "    <tr style=\"text-align: right;\">\n",
       "      <th></th>\n",
       "      <th>crash_date</th>\n",
       "      <th>crash_time</th>\n",
       "    </tr>\n",
       "  </thead>\n",
       "  <tbody>\n",
       "    <tr>\n",
       "      <th>0</th>\n",
       "      <td>2021-09-11T00:00:00.000</td>\n",
       "      <td>2:39</td>\n",
       "    </tr>\n",
       "    <tr>\n",
       "      <th>1</th>\n",
       "      <td>2022-03-26T00:00:00.000</td>\n",
       "      <td>11:45</td>\n",
       "    </tr>\n",
       "    <tr>\n",
       "      <th>2</th>\n",
       "      <td>2023-11-01T00:00:00.000</td>\n",
       "      <td>1:29</td>\n",
       "    </tr>\n",
       "    <tr>\n",
       "      <th>3</th>\n",
       "      <td>2022-06-29T00:00:00.000</td>\n",
       "      <td>6:55</td>\n",
       "    </tr>\n",
       "    <tr>\n",
       "      <th>4</th>\n",
       "      <td>2022-09-21T00:00:00.000</td>\n",
       "      <td>13:21</td>\n",
       "    </tr>\n",
       "    <tr>\n",
       "      <th>...</th>\n",
       "      <td>...</td>\n",
       "      <td>...</td>\n",
       "    </tr>\n",
       "    <tr>\n",
       "      <th>9995</th>\n",
       "      <td>2021-09-18T00:00:00.000</td>\n",
       "      <td>10:50</td>\n",
       "    </tr>\n",
       "    <tr>\n",
       "      <th>9996</th>\n",
       "      <td>2021-09-18T00:00:00.000</td>\n",
       "      <td>1:00</td>\n",
       "    </tr>\n",
       "    <tr>\n",
       "      <th>9997</th>\n",
       "      <td>2021-09-17T00:00:00.000</td>\n",
       "      <td>9:10</td>\n",
       "    </tr>\n",
       "    <tr>\n",
       "      <th>9998</th>\n",
       "      <td>2021-09-18T00:00:00.000</td>\n",
       "      <td>4:48</td>\n",
       "    </tr>\n",
       "    <tr>\n",
       "      <th>9999</th>\n",
       "      <td>2021-09-18T00:00:00.000</td>\n",
       "      <td>20:00</td>\n",
       "    </tr>\n",
       "  </tbody>\n",
       "</table>\n",
       "<p>10000 rows × 2 columns</p>\n",
       "</div>"
      ],
      "text/plain": [
       "                   crash_date crash_time\n",
       "0     2021-09-11T00:00:00.000       2:39\n",
       "1     2022-03-26T00:00:00.000      11:45\n",
       "2     2023-11-01T00:00:00.000       1:29\n",
       "3     2022-06-29T00:00:00.000       6:55\n",
       "4     2022-09-21T00:00:00.000      13:21\n",
       "...                       ...        ...\n",
       "9995  2021-09-18T00:00:00.000      10:50\n",
       "9996  2021-09-18T00:00:00.000       1:00\n",
       "9997  2021-09-17T00:00:00.000       9:10\n",
       "9998  2021-09-18T00:00:00.000       4:48\n",
       "9999  2021-09-18T00:00:00.000      20:00\n",
       "\n",
       "[10000 rows x 2 columns]"
      ]
     },
     "execution_count": 6,
     "metadata": {},
     "output_type": "execute_result"
    }
   ],
   "source": [
    "df_opendata[['crash_date', 'crash_time']]"
   ]
  },
  {
   "cell_type": "code",
   "execution_count": null,
   "metadata": {},
   "outputs": [],
   "source": []
  }
 ],
 "metadata": {
  "kernelspec": {
   "display_name": "bigquery",
   "language": "python",
   "name": "python3"
  },
  "language_info": {
   "codemirror_mode": {
    "name": "ipython",
    "version": 3
   },
   "file_extension": ".py",
   "mimetype": "text/x-python",
   "name": "python",
   "nbconvert_exporter": "python",
   "pygments_lexer": "ipython3",
   "version": "3.13.2"
  }
 },
 "nbformat": 4,
 "nbformat_minor": 2
}
