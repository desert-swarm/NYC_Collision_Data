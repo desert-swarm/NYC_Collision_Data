{
 "cells": [
  {
   "cell_type": "code",
   "execution_count": null,
   "metadata": {},
   "outputs": [],
   "source": [
    "import pandas as pd \n",
    "import requests \n",
    "import json \n",
    "from google.cloud import bigquery "
   ]
  }
 ],
 "metadata": {
  "kernelspec": {
   "display_name": "bigquery",
   "language": "python",
   "name": "python3"
  },
  "language_info": {
   "name": "python",
   "version": "3.13.2"
  }
 },
 "nbformat": 4,
 "nbformat_minor": 2
}
